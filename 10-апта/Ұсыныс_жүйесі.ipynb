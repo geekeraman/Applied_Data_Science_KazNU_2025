{
  "cells": [
    {
      "cell_type": "markdown",
      "metadata": {
        "id": "Lzk7iX_CodX6",
        "tags": []
      },
      "source": [
        "# Мазмұнға негізделген сүзгілеу үшін терең үйрену\n",
        "\n",
        "Осы жаттығуда, сіз нейрондық желіні пайдаланып, фильмдерге арналған ұсыныс жүйесін құру үшін мазмұнға негізделген сүзгілеуді жүзеге асырасыз. Сіздің тапсырмаңыз соңында беріледі."
      ]
    },
    {
      "cell_type": "markdown",
      "metadata": {
        "id": "hWCKzBr6bNtq"
      },
      "source": [
        "Біз таныс пакеттерді, яғни NumPy, TensorFlow және [scikit-learn](https://scikit-learn.org/stable/)-нің пайдалы функцияларын қолданамыз. Сондай-ақ, кестелерді әдемі түрде шығару үшін [tabulate](https://pypi.org/project/tabulate/) және кестелік деректерді ұйымдастыру үшін [Pandas](https://pandas.pydata.org/) пайдаланамыз."
      ]
    },
    {
      "cell_type": "code",
      "execution_count": null,
      "metadata": {
        "id": "Xu-w_RmNwCV5"
      },
      "outputs": [],
      "source": [
        "import numpy as np\n",
        "import numpy.ma as ma\n",
        "from numpy import genfromtxt\n",
        "from collections import defaultdict\n",
        "import pandas as pd\n",
        "import tensorflow as tf\n",
        "from tensorflow import keras\n",
        "from sklearn.preprocessing import StandardScaler, MinMaxScaler\n",
        "from sklearn.model_selection import train_test_split\n",
        "import tabulate\n",
        "from recsysNN_utils import *\n",
        "pd.set_option(\"display.precision\", 1)\n",
        "from IPython.display import HTML"
      ]
    },
    {
      "cell_type": "markdown",
      "metadata": {
        "id": "xwA2BeTMbNtr"
      },
      "source": [
        "## Фильм бағалау деректері  \n",
        "Деректер жиынтығы [MovieLens ml-latest-small](https://grouplens.org/datasets/movielens/latest/) жинағынан алынған.\n",
        "\n",
        "Бастапқы деректер жиынтығында 600 пайдаланушы тарапынан бағаланған 9000 фильм бар, бағалау 0.5-тен 5-ке дейінгі шкала бойынша, 0.5 қадамдармен берілген. 2000 жылдан бастап шыққан және танымал жанрлардағы фильмдерге назар аудару мақсатында, деректер жиынтығы кішірейтілді. Кішірейтілген жиынтықта 395 пайдаланушы және 694 фильм бар. Әр фильм үшін жиынтықта фильм атауы, шыққан жылы және бір немесе бірнеше жанр беріледі. Мысалы, *Toy Story 3* фильмі 2010 жылы шыққан және бірнеше жанрға ие: \"Adventure|Animation|Children|Comedy|Fantasy|IMAX\". Бұл жиынтық пайдаланушылар туралы бағалауларынан басқа өте аз ақпарат қамтиды және төменде сипатталған нейрондық желілерді оқыту векторларын жасау үшін қолданылады."
      ]
    },
    {
      "cell_type": "markdown",
      "metadata": {
        "id": "YYbjL0_-bNts"
      },
      "source": [
        "### Нейрондық желімен мазмұнға негізделген сүзгілеу\n",
        "\n",
        "Бірлескен сүзгілеу зертханасында, сіз пайдаланушы векторын және фильм/зат векторын генерацияладыңыз, олардың нүктелік көбейтіндісі бағаны болжау үшін қолданылды. Бұл векторлар тек бағалаулардан алынған болатын.\n",
        "\n",
        "Мазмұнға негізделген сүзгілеу де пайдаланушы және фильмнің ерекшелік векторын жасайды, бірақ пайдаланушы мен/немесе фильм туралы болжауды жақсартатын қосымша ақпараттың да болуы мүмкін екенін мойындайды. Қосымша ақпарат нейрондық желіге беріледі, ол пайдаланушы мен фильм векторын генерациялайды.\n",
        "\n",
        "Желідегі фильм контенті бастапқы деректер мен кейбір «инженерлік ерекшеліктердің» комбинациясынан тұрады. Бастапқы ерекшеліктерге фильмнің шыққан жылы және бір ыстық вектор түрінде ұсынылған фильмнің жанры кіреді. 14 жанр бар. Инженерлік ерекшелік – пайдаланушы бағаларынан алынған орташа баға. Бірнеше жанры бар фильмдер әр жанр үшін оқыту векторын алады.\n",
        "\n",
        "Пайдаланушы контенті тек инженерлік ерекшеліктерден құралады. Әр пайдаланушы үшін жанр бойынша орташа баға есептеледі. Сонымен қатар, пайдаланушы идентификаторы, баға саны және орташа баға бар, бірақ олар оқыту немесе болжау контентіне қосылмайды, олар деректерді түсіндіруде пайдалы.\n",
        "\n",
        "Оқыту жиынтығы деректер жиынтығындағы барлық пайдаланушы бағаларынан тұрады. Пайдаланушы және фильм/зат векторлары жоғарыда көрсетілген желіге оқыту жиынтығы ретінде бірге беріледі. Пайдаланушы векторы пайдаланушы берген барлық фильмдер үшін бірдей.\n",
        "\n",
        "Төменде, кейбір деректерді жүктеп, көрсетейік.\n"
      ]
    },
    {
      "cell_type": "code",
      "execution_count": null,
      "metadata": {
        "id": "M5gfMLYgxCD1"
      },
      "outputs": [],
      "source": [
        "# Деректерді жүктеу, баптау айнымалыларын орнату\n",
        "item_train, user_train, y_train, item_features, user_features, item_vecs, movie_dict, user_to_genre = load_data()\n",
        "\n",
        "num_user_features = user_train.shape[1] - 3  # оқыту кезінде пайдаланушы идентификаторын, бағалау санын және орташа бағалауды алып тастау\n",
        "num_item_features = item_train.shape[1] - 1  # оқыту кезінде фильм идентификаторын алып тастау\n",
        "uvs = 3  # пайдаланушы жанр векторының басталу индексі\n",
        "ivs = 3  # фильм жанр векторының басталу индексі\n",
        "u_s = 3  # оқытуда пайдаланылатын бағаналардың басталу индексі, пайдаланушы\n",
        "i_s = 1  # оқытуда пайдаланылатын бағаналардың басталу индексі, элементтер\n",
        "scaledata = True  # деректерге стандартты масштабтау қолданылатынын белгілейді, егер шын болса\n",
        "print(f\"Оқыту векторларының саны: {len(item_train)}\")\n"
      ]
    },
    {
      "cell_type": "markdown",
      "metadata": {
        "id": "PkcFy8OLbNts"
      },
      "source": [
        "Пайдаланушы және элемент/фильм ерекшеліктерінің кейбіреулері оқыту кезінде пайдаланылмайды. Төменде жақшадағы \"[]\" ішіндегі, мысалы, \"пайдаланушы идентификаторы\", \"бағалау саны\" және \"орташа баға\" сияқты ерекшеліктер модель оқытылып қолданылғанда қосылмайды. Назар аударыңыз, барлық бағаланған фильмдер үшін пайдаланушы векторы бірдей."
      ]
    },
    {
      "cell_type": "code",
      "execution_count": null,
      "metadata": {
        "id": "aeAk8-HZbNtt"
      },
      "outputs": [],
      "source": [
        "HTML(pprint_train(user_train, user_features, uvs,  u_s, maxcount=5))"
      ]
    },
    {
      "cell_type": "code",
      "execution_count": null,
      "metadata": {
        "id": "7sQvZWtEbNtt"
      },
      "outputs": [],
      "source": [
        "HTML(pprint_train(item_train, item_features, ivs, i_s, maxcount=5, user=False))"
      ]
    },
    {
      "cell_type": "code",
      "execution_count": null,
      "metadata": {
        "id": "Q5VO0UY5bNtu"
      },
      "outputs": [],
      "source": [
        "print(f\"y_train[:5]: {y_train[:5]}\")"
      ]
    },
    {
      "cell_type": "markdown",
      "metadata": {
        "id": "RTs6JVhBbNt9"
      },
      "source": [
        "Жоғарыда 6874 нөмірлі фильмнің 2003 жылы шыққан экшн фильмі екені көрініп тұр. Пайдаланушы 2 экшн фильмдерді орта есеппен 3.9 бағалайды. Сонымен қатар, 6874 нөмірлі фильм қылмыс және триллер жанрларында да тіркелген. MovieLens пайдаланушылары бұл фильмге орташа 4 баға берген. Оқыту үлгісі екі кестеден бір жол және y_train бағанындағы бағадан тұрады."
      ]
    },
    {
      "cell_type": "code",
      "execution_count": null,
      "metadata": {
        "id": "cbz8MZ1jbNt-"
      },
      "outputs": [],
      "source": [
        "# масштабты оқыту деректері\n",
        "if scaledata:\n",
        "    item_train_save = item_train\n",
        "    user_train_save = user_train\n",
        "\n",
        "    scalerItem = StandardScaler()\n",
        "    scalerItem.fit(item_train)\n",
        "    item_train = scalerItem.transform(item_train)\n",
        "\n",
        "    scalerUser = StandardScaler()\n",
        "    scalerUser.fit(user_train)\n",
        "    user_train = scalerUser.transform(user_train)\n",
        "\n",
        "    print(np.allclose(item_train_save, scalerItem.inverse_transform(item_train)))\n",
        "    print(np.allclose(user_train_save, scalerUser.inverse_transform(user_train)))"
      ]
    },
    {
      "cell_type": "markdown",
      "metadata": {
        "id": "8m2tLYf9bNt-"
      },
      "source": [
        "Нәтижелерді бағалау үшін, деректерді Course 2, апта 3-тен талқыланғандай оқыту және тест жиынтықтарына бөлеміз. Мұнда деректерді бөлу және араластыру үшін [sklearn train_test_split](https://scikit-learn.org/stable/modules/generated/sklearn.model_selection.train_test_split.html) қолданамыз. Бастапқы кездейсоқ күйді бірдей мәнге орнату item, user және y элементтерінің бірдей түрде араластырылуын қамтамасыз етеді."
      ]
    },
    {
      "cell_type": "code",
      "execution_count": null,
      "metadata": {
        "id": "CMjRIf6HbNt-"
      },
      "outputs": [],
      "source": [
        "item_train, item_test = train_test_split(item_train, train_size=0.80, shuffle=True, random_state=1)\n",
        "user_train, user_test = train_test_split(user_train, train_size=0.80, shuffle=True, random_state=1)\n",
        "y_train, y_test       = train_test_split(y_train,    train_size=0.80, shuffle=True, random_state=1)\n",
        "print(f\"фильм/зат оқыту деректерінің өлшемі: {item_train.shape}\")\n",
        "print(f\"фильм/зат тест деректерінің өлшемі: {item_test.shape}\")\n"
      ]
    },
    {
      "cell_type": "markdown",
      "metadata": {
        "id": "OUPrJkWjbNt-"
      },
      "source": [
        "Масштабталған, араластырылған деректердің орташа мәні енді нөлге тең."
      ]
    },
    {
      "cell_type": "code",
      "execution_count": null,
      "metadata": {
        "id": "pX9Q4kV4bNt-"
      },
      "outputs": [],
      "source": [
        "HTML(pprint_train(user_train, user_features, uvs, u_s, maxcount=5))"
      ]
    },
    {
      "cell_type": "markdown",
      "metadata": {
        "id": "KeoAhs95LRop"
      },
      "source": [
        "Мақсатты бағалауларды Min Max Scaler арқылы -1 мен 1 аралығында масштабтаңыз. Біз scikit-learn қолданамыз, өйткені оның inverse_transform функциясы бар. [scikit learn MinMaxScaler](https://scikit-learn.org/stable/modules/generated/sklearn.preprocessing.MinMaxScaler.html)"
      ]
    },
    {
      "cell_type": "code",
      "execution_count": null,
      "metadata": {
        "id": "A8myXMxFC8lP"
      },
      "outputs": [],
      "source": [
        "scaler = MinMaxScaler((-1, 1))\n",
        "scaler.fit(y_train.reshape(-1, 1))\n",
        "ynorm_train = scaler.transform(y_train.reshape(-1, 1))\n",
        "ynorm_test = scaler.transform(y_test.reshape(-1, 1))\n",
        "print(ynorm_train.shape, ynorm_test.shape)"
      ]
    },
    {
      "cell_type": "markdown",
      "metadata": {
        "id": "QT8BRdMJbNt_"
      },
      "source": [
        "## Мазмұнға негізделген сүзгілеу үшін нейрондық желі\n",
        "\n",
        "Енді жоғарыда көрсетілген суретте сипатталғандай нейрондық желіні құрамыз. Ол екі желіден тұрады, олар нүктелік көбейтінді арқылы біріктіріледі. Сіз осы екі желіні құрастырасыз. Бұл мысалда олар бірдей болады. Алайда, осы желілер бірдей болу қажет емес. Егер пайдаланушы контенті фильм контентінен едәуір үлкен болса, сіз пайдаланушы желісінің күрделілігін фильм желісіне қарағанда арттыруды таңдай аласыз. Бұл жағдайда контент ұқсас болғандықтан, желілер бірдей.\n",
        "\n",
        "- Keras Sequential моделін қолданыңыз:\n",
        "    - Бірінші қабат – 256 бірлікті және relu активациясын қолданатын тығыз қабат.\n",
        "    - Екінші қабат – 128 бірлікті және relu активациясын қолданатын тығыз қабат.\n",
        "    - Үшінші қабат – `num_outputs` бірлікті және сызықтық немесе активациясыз тығыз қабат.\n",
        "    \n",
        "Желі қалғасын кодпен қамтамасыз етіледі. Қамтамасыз етілген код Keras Sequential моделін емес, Keras [Functional API](https://keras.io/guides/functional_api/) моделін қолданады. Бұл формат компоненттердің өзара байланысын икемді түрде құруға мүмкіндік береді."
      ]
    },
    {
      "cell_type": "code",
      "execution_count": null,
      "metadata": {
        "id": "CBjZ2HhRwpa0"
      },
      "outputs": [],
      "source": [
        "num_outputs = 32\n",
        "tf.random.set_seed(1)\n",
        "user_NN = tf.keras.models.Sequential([\n",
        "    tf.keras.layers.Dense(256, activation='relu'),\n",
        "    tf.keras.layers.Dense(128, activation='relu'),\n",
        "    tf.keras.layers.Dense(num_outputs, activation='linear'),\n",
        "])\n",
        "\n",
        "item_NN = tf.keras.models.Sequential([\n",
        "    tf.keras.layers.Dense(256, activation='relu'),\n",
        "    tf.keras.layers.Dense(128, activation='relu'),\n",
        "    tf.keras.layers.Dense(num_outputs, activation='linear'),\n",
        "])\n",
        "\n",
        "# пайдаланушы енгізімін жасап, негізгі желіге бағыттау\n",
        "input_user = tf.keras.layers.Input(shape=(num_user_features,))\n",
        "vu = user_NN(input_user)\n",
        "vu = tf.keras.layers.Lambda(lambda x: tf.linalg.l2_normalize(x, axis=1))(vu)\n",
        "\n",
        "# элемент енгізімін жасап, негізгі желіге бағыттау\n",
        "input_item = tf.keras.layers.Input(shape=(num_item_features,))\n",
        "vm = item_NN(input_item)\n",
        "vm = tf.keras.layers.Lambda(lambda x: tf.linalg.l2_normalize(x, axis=1))(vm)\n",
        "\n",
        "# vu және vm екі векторының нүктелік көбейтіндісін есептеу\n",
        "output = tf.keras.layers.Dot(axes=1)([vu, vm])\n",
        "\n",
        "# модельдің енгізімдері мен шығуын анықтау\n",
        "model = Model([input_user, input_item], output)\n",
        "\n",
        "model.summary()"
      ]
    },
    {
      "cell_type": "markdown",
      "metadata": {
        "id": "TEpi2Ch_bNt_"
      },
      "source": [
        "Біз орташа квадраттық қате шығын функциясын және Adam оптимизаторын қолданамыз."
      ]
    },
    {
      "cell_type": "code",
      "execution_count": null,
      "metadata": {
        "id": "pGK5MEUowxN4"
      },
      "outputs": [],
      "source": [
        "tf.random.set_seed(1)\n",
        "cost_fn = tf.keras.losses.MeanSquaredError()\n",
        "opt = keras.optimizers.Adam(learning_rate=0.01)\n",
        "model.compile(optimizer=opt,\n",
        "              loss=cost_fn)"
      ]
    },
    {
      "cell_type": "code",
      "execution_count": null,
      "metadata": {
        "id": "6zHf7eASw0tN"
      },
      "outputs": [],
      "source": [
        "tf.random.set_seed(1)\n",
        "model.fit([user_train[:, u_s:], item_train[:, i_s:]], ynorm_train, epochs=30)"
      ]
    },
    {
      "cell_type": "markdown",
      "metadata": {
        "id": "RbgBpcaubNuA"
      },
      "source": [
        "Модельді тест деректері бойынша жоғалтуды анықтау үшін бағалаңыз. Ол оқыту жоғалтумен салыстырмалы, яғни модель оқыту деректеріне айтарлықтай артық бейімделмегенін көрсетеді."
      ]
    },
    {
      "cell_type": "code",
      "execution_count": null,
      "metadata": {
        "id": "ihmqLIZRbNuA"
      },
      "outputs": [],
      "source": [
        "model.evaluate([user_test[:, u_s:], item_test[:, i_s:]], ynorm_test)"
      ]
    },
    {
      "cell_type": "markdown",
      "metadata": {
        "id": "Xsre-gquwEls"
      },
      "source": [
        "### 3.1 Болжаулар\n",
        "Төменде сіз моделі арқылы әртүрлі жағдайларда болжаулар жасайсыз.\n",
        "\n",
        "#### Жаңа пайдаланушыға арналған болжаулар\n",
        "Алдымен, біз жаңа пайдаланушы жасап, сол пайдаланушыға фильмдерді ұсынуды модельден сұраймыз. Мысал пайдаланушы контентін қолданып көргеннен кейін, өз қалауыңызға сәйкес пайдаланушы контентін өзгертіп, модельдің не ұсынатынын тексеруге болады. Ескеріңіз, бағалар 0.5-тен 5.0-ға дейінгі диапазонда, жарты қадамдық ұлғайту арқылы беріледі."
      ]
    },
    {
      "cell_type": "code",
      "execution_count": null,
      "metadata": {
        "id": "4_7nZyPiVJ4r"
      },
      "outputs": [],
      "source": [
        "new_user_id = 5000\n",
        "new_rating_ave = 1.0\n",
        "new_action = 1.0\n",
        "new_adventure = 1\n",
        "new_animation = 1\n",
        "new_childrens = 1\n",
        "new_comedy = 5\n",
        "new_crime = 1\n",
        "new_documentary = 1\n",
        "new_drama = 1\n",
        "new_fantasy = 1\n",
        "new_horror = 1\n",
        "new_mystery = 1\n",
        "new_romance = 5\n",
        "new_scifi = 5\n",
        "new_thriller = 1\n",
        "new_rating_count = 3\n",
        "\n",
        "user_vec = np.array([[new_user_id, new_rating_count, new_rating_ave,\n",
        "                      new_action, new_adventure, new_animation, new_childrens,\n",
        "                      new_comedy, new_crime, new_documentary,\n",
        "                      new_drama, new_fantasy, new_horror, new_mystery,\n",
        "                      new_romance, new_scifi, new_thriller]])"
      ]
    },
    {
      "cell_type": "markdown",
      "metadata": {
        "id": "t-W_xKbBbNuA"
      },
      "source": [
        "Жаңа пайдаланушы үшін ең жоғары бағаланған фильмдерді қарастырайық. Ескеріңіз, пайдаланушы векторы комедия және романтикалық жанрларға басымдық берген болатын.  \n",
        "Төменде оқыту/тест жиынтығындағы әр фильмге арналған векторлары бар `item_vecs` жиынтығын қолданамыз. Бұл векторлар жоғарыда берілген пайдаланушы векторымен сәйкестендіріліп, масштабталған векторлар жаңа пайдаланушыға арналған барлық фильмдерге бағаларды болжау үшін пайдаланылады."
      ]
    },
    {
      "cell_type": "code",
      "execution_count": null,
      "metadata": {
        "id": "1VaM1JphbNuA"
      },
      "outputs": [],
      "source": [
        "# деректер жиынындағы фильмдер санына сәйкес пайдаланушы векторын жасап, қайталау.\n",
        "user_vecs = gen_user_vecs(user_vec, len(item_vecs))\n",
        "\n",
        "# векторларды масштабтап, барлық фильмдер үшін болжау жасау. Нәтижелерді баға бойынша сұрыпталған түрде қайтарады.\n",
        "sorted_index, sorted_ypu, sorted_items, sorted_user = predict_uservec(user_vecs, item_vecs, model, u_s, i_s,\n",
        "                                                                       scaler, scalerUser, scalerItem, scaledata=scaledata)\n",
        "\n",
        "HTML(print_pred_movies(sorted_ypu, sorted_user, sorted_items, movie_dict, maxcount=10))"
      ]
    },
    {
      "cell_type": "markdown",
      "metadata": {
        "id": "K7hcPVoTbNuA"
      },
      "source": [
        "Егер жоғарыда пайдаланушы векторын құрсаңыз, желі пайдаланушы жанрларының **жиынтығын** қамтитын вектор негізінде бағаны болжауға үйретілгенін ескеру маңызды. Тек бір жанрға ең жоғары баға беріп, қалған жанрларға ең төмен баға беру желі үшін мағыналы болмауы мүмкін, егер оқыту деректерінде мұндай баға жиынтығы бар пайдаланушылар болмаған болса."
      ]
    },
    {
      "cell_type": "markdown",
      "metadata": {
        "id": "TpYVEOY4bNuB"
      },
      "source": [
        "#### Бар пайдаланушы үшін болжаулар  \n",
        "\"Пайдаланушы 36\" — деректер жиынындағы пайдаланушылардың бірі — үшін болжауларға назар аударайық. Біз болжауларды модель бағаларымен салыстыра аламыз. Назар аударыңыз, бірнеше жанрға жататын фильмдер оқыту деректерінде бірнеше рет кездеседі. Мысалы, *The Time Machine* фильмі үш жанрға жатады: **Adventure**, **Action**, **Sci-Fi**."
      ]
    },
    {
      "cell_type": "code",
      "execution_count": null,
      "metadata": {
        "id": "HixxeBIEbNuB"
      },
      "outputs": [],
      "source": [
        "uid = 36\n",
        "# пайдаланушы векторларының жиынын қалыптастыру. Бұл бірдей вектор, түрлендірілген және қайталанған.\n",
        "user_vecs, y_vecs = get_user_vecs(uid, scalerUser.inverse_transform(user_train), item_vecs, user_to_genre)\n",
        "\n",
        "# векторларды масштабтап, барлық фильмдер үшін болжау жасау. Нәтижелерді баға бойынша сұрыпталған түрде қайтарады.\n",
        "sorted_index, sorted_ypu, sorted_items, sorted_user = predict_uservec(user_vecs, item_vecs, model, u_s, i_s, scaler,\n",
        "                                                                      scalerUser, scalerItem, scaledata=scaledata)\n",
        "sorted_y = y_vecs[sorted_index]\n",
        "\n",
        "# сұрыпталған болжауларды басып шығару\n",
        "HTML(print_existing_user(sorted_ypu, sorted_y.reshape(-1,1), sorted_user, sorted_items, item_features, ivs, uvs, movie_dict, maxcount=10))\n"
      ]
    },
    {
      "cell_type": "markdown",
      "metadata": {
        "id": "sDNTCevabNuB"
      },
      "source": [
        "#### Ұқсас элементтерді табу  \n",
        "Жоғарыдағы нейрондық желі екі ерекшелік векторын шығарады: пайдаланушы ерекшелік векторы $v_u$ және фильм ерекшелік векторы $v_m$. Бұл — мағынасын түсіндіру қиын 32 өлшемді векторлар. Алайда, ұқсас элементтердің векторлары да ұқсас болады. Бұл ақпаратты ұсыным жасау үшін пайдалануға болады. Мысалы, егер пайдаланушы \"Toy Story 3\" фильміне жоғары баға берген болса, ұқсас фильм ерекшелік векторлары бар басқа фильмдерді ұсынып көруге болады.\n",
        "\n",
        "Ұқсастықты өлшеудің бір тәсілі — екі вектордың $ \\mathbf{v_m^{(k)}}$ және $\\mathbf{v_m^{(i)}}$ арасындағы квадраттық қашықтықты есептеу:\n",
        "$$\\left\\Vert \\mathbf{v_m^{(k)}} - \\mathbf{v_m^{(i)}}  \\right\\Vert^2 = \\sum_{l=1}^{n}(v_{m_l}^{(k)} - v_{m_l}^{(i)})^2\\tag{1}$$"
      ]
    },
    {
      "cell_type": "markdown",
      "metadata": {
        "id": "3xEe2bZVbNuB"
      },
      "source": [
        "### Квадраттық қашықтықты есептейтін функция."
      ]
    },
    {
      "cell_type": "code",
      "execution_count": null,
      "metadata": {
        "id": "qCdQA5wpbNuB"
      },
      "outputs": [],
      "source": [
        "def sq_dist(a, b):\n",
        "    \"\"\"\n",
        "    Екі вектор арасындағы квадраттық қашықтықты қайтарады.\n",
        "\n",
        "    Параметрлер:\n",
        "      a (ndarray (n,)): n ерекшелігі бар вектор\n",
        "      b (ndarray (n,)): n ерекшелігі бар вектор\n",
        "\n",
        "    Қайтарымы:\n",
        "      d (float): қашықтық\n",
        "    \"\"\"\n",
        "    d = sum(np.square(a - b))\n",
        "    return d"
      ]
    },
    {
      "cell_type": "code",
      "execution_count": null,
      "metadata": {
        "id": "kMth9NdwbNuB"
      },
      "outputs": [],
      "source": [
        "a1 = np.array([1.0, 2.0, 3.0]); b1 = np.array([1.0, 2.0, 3.0])\n",
        "a2 = np.array([1.1, 2.1, 3.1]); b2 = np.array([1.0, 2.0, 3.0])\n",
        "a3 = np.array([0, 1, 0]);       b3 = np.array([1, 0, 0])\n",
        "\n",
        "print(f\"a1 мен b1 арасындағы квадраттық қашықтық: {sq_dist(a1, b1)}\")\n",
        "print(f\"a2 мен b2 арасындағы квадраттық қашықтық: {sq_dist(a2, b2)}\")\n",
        "print(f\"a3 мен b3 арасындағы квадраттық қашықтық: {sq_dist(a3, b3)}\")\n"
      ]
    },
    {
      "cell_type": "markdown",
      "metadata": {
        "id": "OhYQKMH3bNuB"
      },
      "source": [
        "Фильмдер арасындағы қашықтықтар матрицасын модель бір рет оқытылғаннан кейін есептеп, оны қайта оқытпай-ақ жаңа ұсынымдар үшін қайта пайдалануға болады. Модель оқытылып болғаннан кейінгі алғашқы қадам — әр фильм үшін фильм ерекшелік векторын, яғни $v_m$ алуға кірісу. Бұл үшін біз оқытылған `item_NN` желісін пайдаланамыз және фильм векторларын өткізіп, $v_m$ генерациялау үшін шағын қосымша модель құрамыз."
      ]
    },
    {
      "cell_type": "code",
      "execution_count": null,
      "metadata": {
        "id": "ZAqso25KbNuC"
      },
      "outputs": [],
      "source": [
        "from tensorflow.keras.models import Model\n",
        "from tensorflow.keras.layers import Input, Lambda\n",
        "\n",
        "input_item_m = Input(shape=(num_item_features,))     # енгізу қабаты\n",
        "vm_m = item_NN(input_item_m)                         # оқытылған item_NN қолдану\n",
        "vm_m = Lambda(lambda x: tf.linalg.l2_normalize(x, axis=1))(vm_m)  # қалыпқа келтіруді Lambda қабатымен орындау\n",
        "model_m = Model(input_item_m, vm_m)                  # модель құру\n",
        "model_m.summary()                                    # модель құрылымын шығару\n"
      ]
    },
    {
      "cell_type": "markdown",
      "metadata": {
        "id": "z-jVOMlebNuC"
      },
      "source": [
        "Фильм моделін алғаннан кейін, фильм ерекшелік векторларының жиынын құруға болады — бұл үшін модельге `item_vecs` сияқты фильм/элемент векторларының жиынын енгізу арқылы болжау жүргізіледі. `item_vecs` — барлық фильм векторларының жиыны. Есіңізде болсын, бір фильм әр жанр үшін жеке вектор ретінде кездеседі. Бұл векторларды оқытылған модельмен қолдану үшін алдын ала масштабтау қажет. Болжау нәтижесінде әр фильм үшін 32 өлшемді ерекшелік векторы алынады."
      ]
    },
    {
      "cell_type": "code",
      "execution_count": null,
      "metadata": {
        "id": "lvduEFXWbNuC"
      },
      "outputs": [],
      "source": [
        "scaled_item_vecs = scalerItem.transform(item_vecs)\n",
        "vms = model_m.predict(scaled_item_vecs[:, i_s:])\n",
        "print(f\"Болжанған барлық фильм ерекшелік векторларының өлшемі: {vms.shape}\")"
      ]
    },
    {
      "cell_type": "markdown",
      "metadata": {
        "id": "ybmB50oTbNuC"
      },
      "source": [
        "Енді әр фильм ерекшелік векторы мен қалған барлық фильм ерекшелік векторлары арасындағы квадраттық қашықтық матрицасын есептейік."
      ]
    },
    {
      "cell_type": "markdown",
      "metadata": {
        "id": "MuJnjoDxbNuC"
      },
      "source": [
        "Содан кейін әр жол бойынша минимумды табу арқылы ең жақын фильмді анықтай аламыз. Бұл жерде біз [numpy masked arrays](https://numpy.org/doc/1.21/user/tutorial-ma.html) — маскаланған массивтерді қолданамыз, себебі олар бір фильмнің өзін таңдап алуын болдырмайды. Диагональ бойындағы маскаланған мәндер есептеуге қосылмайды."
      ]
    },
    {
      "cell_type": "markdown",
      "source": [
        "# 1-тапсырма: Пайдаланушыға жекелендірілген фильм ұсынымдарын жасау функциясы\n",
        "\n",
        "## **Функция не істеуі керек:**\n",
        "\n",
        "**Input:**\n",
        "- Пайдаланушының ID-сі (мысалы, `uid = 36`)\n",
        "- Пайдаланушы туралы деректер (мысалы, оның жанрларға деген қалауы немесе бағалау тарихы)\n",
        "- Фильм/элемент деректері және алдын ала оқытылған модель\n",
        "\n",
        "**Өңдеу:**\n",
        "- Берілген пайдаланушы ID-сі бойынша пайдаланушының ерекшелік векторын табу немесе жасау\n",
        "- Осы векторды деректер жиынындағы әр фильм үшін қайталау — әр фильмге жеке баға болжау үшін\n",
        "- Енгізілген векторларды модель талап ететін форматқа сәйкестендіріп масштабтау\n",
        "- Оқытылған модельді қолданып, пайдаланушыға әр фильм қаншалықты ұнайтынын болжау\n",
        "- Фильмдерді болжау нәтижелері бойынша сұрыптау (ең жоғарғы ұсынылғаннан төменге қарай)\n",
        "\n",
        "**output:**\n",
        "- Осы пайдаланушы үшін ұсынылатын ең үздік фильмдердің тізімін (немесе кестесін) шығару\n",
        "- Төмендегідей мәліметтерді көрсету:\n",
        "  - Фильм атауы  \n",
        "  - Жанры  \n",
        "  - Болжау бойынша баға  \n",
        "  - (Қосымша) Нақты баға, егер қолжетімді болса\n",
        "\n",
        "---\n",
        "\n",
        "**Мысал:**\n",
        "\n",
        "36-нөмірлі пайдаланушы көбіне экшн және оқиғаға толы фильмдерді көреді. Функцияны орындағанда төмендегідей нәтиже берілуі мүмкін:\n",
        "\n",
        "| Фильм атауы            | Жанр      | Болжау бағасы |\n",
        "|------------------------|-----------|----------------|\n",
        "| Avengers: Endgame      | Action    | 4.9            |\n",
        "| Mad Max: Fury Road     | Adventure | 4.8            |\n",
        "| John Wick              | Action    | 4.7            |"
      ],
      "metadata": {
        "id": "Bdx8YIPjwBBb"
      }
    },
    {
      "cell_type": "markdown",
      "source": [
        "\n",
        "### 2-Тапсырма: Фильмге ұқсас 10 фильмді табу\n",
        "\n",
        "Функция жазу — оған фильмнің атауы беріледі, ал нәтиже ретінде **ең ұқсас 10 фильмнің** тізімін қайтарады (векторлық ұқсастыққа негізделген).\n",
        "\n",
        "---\n",
        "\n",
        "### Функция талаптары\n",
        "\n",
        "- **Input:**  \n",
        "  - `movie_name` (*str*): Ізделетін фильмнің атауы.\n",
        "  - Қосымша параметрлер: фильм векторлары, метадеректер, ұқсастық пен жанрды есептейтін көмекші функциялар.\n",
        "\n",
        "- **Процесс:**  \n",
        "  1. Фильмнің атауы арқылы оның векторлық ұсынуын табу.\n",
        "  2. Осы фильм мен қалған барлық фильмдердің арасындағы ұқсастықты (мысалы, евклидтік қашықтық) есептеу.\n",
        "  3. Ұқсастық дәрежесіне қарай фильмдерді сұрыптап, ең ұқсас 10 фильмді таңдау (бастапқы фильмді қоспағанда).\n",
        "  4. Бастапқы фильм мен табылған фильмдердің атаулары мен жанрларын шығару.\n",
        "\n",
        "- **Output:**  \n",
        "  - Кесте немесе тізім, мына ақпаратпен:\n",
        "    - Енгізілген фильмнің атауы және жанры.\n",
        "    - Ең ұқсас 10 фильмнің атаулары мен жанрлары.\n",
        "\n",
        "---\n",
        "\n",
        "### Мысал\n",
        "\n",
        "| Бастапқы фильм | Жанры     | Ұқсас фильм     | Жанры     |\n",
        "|----------------|-----------|------------------|-----------|\n",
        "| Inception      | Ғылыми-фантастика | Interstellar   | Ғылыми-фантастика |\n",
        "| Inception      | Ғылыми-фантастика | The Matrix     | Экшн      |\n",
        "| ...            | ...       | ...              | ...       |\n",
        "\n"
      ],
      "metadata": {
        "id": "6ycjOzQ7ypq4"
      }
    },
    {
      "cell_type": "code",
      "source": [],
      "metadata": {
        "id": "R3LpFO_hxmvT"
      },
      "execution_count": null,
      "outputs": []
    }
  ],
  "metadata": {
    "colab": {
      "private_outputs": true,
      "provenance": [],
      "gpuType": "T4"
    },
    "kernelspec": {
      "display_name": "Python 3",
      "name": "python3"
    },
    "language_info": {
      "codemirror_mode": {
        "name": "ipython",
        "version": 3
      },
      "file_extension": ".py",
      "mimetype": "text/x-python",
      "name": "python",
      "nbconvert_exporter": "python",
      "pygments_lexer": "ipython3",
      "version": "3.7.6"
    },
    "accelerator": "GPU"
  },
  "nbformat": 4,
  "nbformat_minor": 0
}